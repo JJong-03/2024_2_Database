{
 "cells": [
  {
   "cell_type": "markdown",
   "metadata": {},
   "source": [
    "### Gpt API 간단 사용법 (그냥 Query만 넣어서) 정리"
   ]
  },
  {
   "cell_type": "code",
   "execution_count": 1,
   "metadata": {},
   "outputs": [
    {
     "name": "stdout",
     "output_type": "stream",
     "text": [
      "1. \"한 회사는 선불전자지급수단을 발행하고 있습니다. \n",
      "2. 분기당 발행잔액은 28억원, 연간 총발행액은 450억원입니다. \n",
      "3. 이 경우, 이 회사는 선불업 등록을 해야 하나요?\"\n"
     ]
    }
   ],
   "source": [
    "import os\n",
    "import openai\n",
    "\n",
    "# .env 파일에 openai api key 있음\n",
    "openai.api_key = os.environ[\"OPENAI_API_KEY\"]\n",
    "\n",
    "query = \"\"\"\n",
    "\"한 회사는 선불전자지급수단을 발행하고 있습니다. 분기당 발행잔액은 28억원, 연간 총발행액은 450억원입니다. \n",
    "이 경우, 이 회사는 선불업 등록을 해야 하나요?\" \n",
    "\n",
    "위 질문을 의미적으로 문장 단위로 나눠주세요.\n",
    "\"\"\"\n",
    "\n",
    "response = openai.chat.completions.create(\n",
    "    model=\"gpt-3.5-turbo\",\n",
    "    messages=[\n",
    "        {\"role\": \"user\", \"content\": query},\n",
    "    ],\n",
    ")\n",
    "\n",
    "print(response.choices[0].message.content)"
   ]
  },
  {
   "cell_type": "markdown",
   "metadata": {},
   "source": [
    "### Retrieval augumented Generation - pdf에서 데이터를 가져옴"
   ]
  },
  {
   "cell_type": "code",
   "execution_count": 1,
   "metadata": {},
   "outputs": [
    {
     "name": "stdout",
     "output_type": "stream",
     "text": [
      "Collecting langchain\n",
      "  Using cached langchain-0.3.7-py3-none-any.whl.metadata (7.1 kB)\n",
      "Collecting PyYAML>=5.3 (from langchain)\n",
      "  Using cached PyYAML-6.0.2-cp313-cp313-manylinux_2_17_x86_64.manylinux2014_x86_64.whl.metadata (2.1 kB)\n",
      "Collecting SQLAlchemy<3,>=1.4 (from langchain)\n",
      "  Using cached SQLAlchemy-2.0.36-cp313-cp313-manylinux_2_17_x86_64.manylinux2014_x86_64.whl.metadata (9.7 kB)\n",
      "Collecting aiohttp<4.0.0,>=3.8.3 (from langchain)\n",
      "  Using cached aiohttp-3.11.2-cp313-cp313-manylinux_2_17_x86_64.manylinux2014_x86_64.whl.metadata (7.7 kB)\n",
      "Collecting langchain-core<0.4.0,>=0.3.15 (from langchain)\n",
      "  Using cached langchain_core-0.3.19-py3-none-any.whl.metadata (6.3 kB)\n",
      "Collecting langchain-text-splitters<0.4.0,>=0.3.0 (from langchain)\n",
      "  Using cached langchain_text_splitters-0.3.2-py3-none-any.whl.metadata (2.3 kB)\n",
      "Collecting langsmith<0.2.0,>=0.1.17 (from langchain)\n",
      "  Using cached langsmith-0.1.143-py3-none-any.whl.metadata (13 kB)\n",
      "Collecting numpy<2.0.0,>=1.26.0 (from langchain)\n",
      "  Using cached numpy-1.26.4.tar.gz (15.8 MB)\n",
      "  Installing build dependencies ... \u001b[?25ldone\n",
      "\u001b[?25h  Getting requirements to build wheel ... \u001b[?25ldone\n",
      "\u001b[?25h  Installing backend dependencies ... \u001b[?25ldone\n",
      "\u001b[?25h  Preparing metadata (pyproject.toml) ... \u001b[?25l\\^C\n",
      "\u001b[?25canceled\n",
      "Note: you may need to restart the kernel to use updated packages.\n",
      "Collecting unstructured\n",
      "  Downloading unstructured-0.11.8-py3-none-any.whl.metadata (26 kB)\n",
      "Collecting chardet (from unstructured)\n",
      "  Using cached chardet-5.2.0-py3-none-any.whl.metadata (3.4 kB)\n",
      "Collecting filetype (from unstructured)\n",
      "  Using cached filetype-1.2.0-py2.py3-none-any.whl.metadata (6.5 kB)\n",
      "Collecting python-magic (from unstructured)\n",
      "  Using cached python_magic-0.4.27-py2.py3-none-any.whl.metadata (5.8 kB)\n",
      "Collecting lxml (from unstructured)\n",
      "  Downloading lxml-5.3.0-cp313-cp313-manylinux_2_28_x86_64.whl.metadata (3.8 kB)\n",
      "Collecting nltk (from unstructured)\n",
      "  Using cached nltk-3.9.1-py3-none-any.whl.metadata (2.9 kB)\n",
      "Collecting tabulate (from unstructured)\n",
      "  Using cached tabulate-0.9.0-py3-none-any.whl.metadata (34 kB)\n",
      "Collecting requests (from unstructured)\n",
      "  Using cached requests-2.32.3-py3-none-any.whl.metadata (4.6 kB)\n",
      "Collecting beautifulsoup4 (from unstructured)\n",
      "  Using cached beautifulsoup4-4.12.3-py3-none-any.whl.metadata (3.8 kB)\n",
      "Collecting emoji (from unstructured)\n",
      "  Downloading emoji-2.14.0-py3-none-any.whl.metadata (5.7 kB)\n",
      "Collecting dataclasses-json (from unstructured)\n",
      "  Using cached dataclasses_json-0.6.7-py3-none-any.whl.metadata (25 kB)\n",
      "Collecting python-iso639 (from unstructured)\n",
      "  Downloading python_iso639-2024.10.22-py3-none-any.whl.metadata (13 kB)\n",
      "Collecting langdetect (from unstructured)\n",
      "  Using cached langdetect-1.0.9.tar.gz (981 kB)\n",
      "  Preparing metadata (setup.py) ... \u001b[?25ldone\n",
      "\u001b[?25hCollecting numpy (from unstructured)\n",
      "  Downloading numpy-2.1.3-cp313-cp313-manylinux_2_17_x86_64.manylinux2014_x86_64.whl.metadata (62 kB)\n",
      "Collecting rapidfuzz (from unstructured)\n",
      "  Downloading rapidfuzz-3.10.1-cp313-cp313-manylinux_2_17_x86_64.manylinux2014_x86_64.whl.metadata (11 kB)\n",
      "Collecting backoff (from unstructured)\n",
      "  Using cached backoff-2.2.1-py3-none-any.whl.metadata (14 kB)\n",
      "Requirement already satisfied: typing-extensions in /home/jowon7602/anaconda3/envs/database/lib/python3.13/site-packages (from unstructured) (4.12.2)\n",
      "Collecting unstructured-client (from unstructured)\n",
      "  Downloading unstructured_client-0.27.0-py3-none-any.whl.metadata (20 kB)\n",
      "Collecting wrapt (from unstructured)\n",
      "  Downloading wrapt-1.16.0-py3-none-any.whl.metadata (6.6 kB)\n",
      "Collecting soupsieve>1.2 (from beautifulsoup4->unstructured)\n",
      "  Using cached soupsieve-2.6-py3-none-any.whl.metadata (4.6 kB)\n",
      "Collecting marshmallow<4.0.0,>=3.18.0 (from dataclasses-json->unstructured)\n",
      "  Downloading marshmallow-3.23.1-py3-none-any.whl.metadata (7.5 kB)\n",
      "Collecting typing-inspect<1,>=0.4.0 (from dataclasses-json->unstructured)\n",
      "  Using cached typing_inspect-0.9.0-py3-none-any.whl.metadata (1.5 kB)\n",
      "Requirement already satisfied: six in /home/jowon7602/anaconda3/envs/database/lib/python3.13/site-packages (from langdetect->unstructured) (1.16.0)\n",
      "Requirement already satisfied: click in /home/jowon7602/anaconda3/envs/database/lib/python3.13/site-packages (from nltk->unstructured) (8.1.7)\n",
      "Collecting joblib (from nltk->unstructured)\n",
      "  Using cached joblib-1.4.2-py3-none-any.whl.metadata (5.4 kB)\n",
      "Collecting regex>=2021.8.3 (from nltk->unstructured)\n",
      "  Downloading regex-2024.11.6-cp313-cp313-manylinux_2_17_x86_64.manylinux2014_x86_64.whl.metadata (40 kB)\n",
      "Requirement already satisfied: tqdm in /home/jowon7602/anaconda3/envs/database/lib/python3.13/site-packages (from nltk->unstructured) (4.63.0)\n",
      "Collecting charset-normalizer<4,>=2 (from requests->unstructured)\n",
      "  Downloading charset_normalizer-3.4.0-cp313-cp313-manylinux_2_17_x86_64.manylinux2014_x86_64.whl.metadata (34 kB)\n",
      "Requirement already satisfied: idna<4,>=2.5 in /home/jowon7602/anaconda3/envs/database/lib/python3.13/site-packages (from requests->unstructured) (3.7)\n",
      "Collecting urllib3<3,>=1.21.1 (from requests->unstructured)\n",
      "  Using cached urllib3-2.2.3-py3-none-any.whl.metadata (6.5 kB)\n",
      "Requirement already satisfied: certifi>=2017.4.17 in /home/jowon7602/anaconda3/envs/database/lib/python3.13/site-packages (from requests->unstructured) (2024.8.30)\n",
      "Collecting cryptography>=3.1 (from unstructured-client->unstructured)\n",
      "  Downloading cryptography-43.0.3-cp39-abi3-manylinux_2_28_x86_64.whl.metadata (5.4 kB)\n",
      "Collecting eval-type-backport<0.3.0,>=0.2.0 (from unstructured-client->unstructured)\n",
      "  Using cached eval_type_backport-0.2.0-py3-none-any.whl.metadata (2.2 kB)\n",
      "Requirement already satisfied: httpx>=0.27.0 in /home/jowon7602/anaconda3/envs/database/lib/python3.13/site-packages (from unstructured-client->unstructured) (0.27.2)\n",
      "Collecting jsonpath-python<2.0.0,>=1.0.6 (from unstructured-client->unstructured)\n",
      "  Using cached jsonpath_python-1.0.6-py3-none-any.whl.metadata (12 kB)\n",
      "Requirement already satisfied: nest-asyncio>=1.6.0 in /home/jowon7602/anaconda3/envs/database/lib/python3.13/site-packages (from unstructured-client->unstructured) (1.6.0)\n",
      "Requirement already satisfied: pydantic<2.10.0,>=2.9.2 in /home/jowon7602/anaconda3/envs/database/lib/python3.13/site-packages (from unstructured-client->unstructured) (2.9.2)\n",
      "Collecting pypdf>=4.0 (from unstructured-client->unstructured)\n",
      "  Downloading pypdf-5.1.0-py3-none-any.whl.metadata (7.2 kB)\n",
      "Collecting python-dateutil==2.8.2 (from unstructured-client->unstructured)\n",
      "  Downloading python_dateutil-2.8.2-py2.py3-none-any.whl.metadata (8.2 kB)\n",
      "Collecting requests-toolbelt>=1.0.0 (from unstructured-client->unstructured)\n",
      "  Using cached requests_toolbelt-1.0.0-py2.py3-none-any.whl.metadata (14 kB)\n",
      "Collecting cffi>=1.12 (from cryptography>=3.1->unstructured-client->unstructured)\n",
      "  Downloading cffi-1.17.1-cp313-cp313-manylinux_2_17_x86_64.manylinux2014_x86_64.whl.metadata (1.5 kB)\n",
      "Requirement already satisfied: anyio in /home/jowon7602/anaconda3/envs/database/lib/python3.13/site-packages (from httpx>=0.27.0->unstructured-client->unstructured) (4.6.2.post1)\n",
      "Requirement already satisfied: httpcore==1.* in /home/jowon7602/anaconda3/envs/database/lib/python3.13/site-packages (from httpx>=0.27.0->unstructured-client->unstructured) (1.0.2)\n",
      "Requirement already satisfied: sniffio in /home/jowon7602/anaconda3/envs/database/lib/python3.13/site-packages (from httpx>=0.27.0->unstructured-client->unstructured) (1.3.0)\n",
      "Requirement already satisfied: h11<0.15,>=0.13 in /home/jowon7602/anaconda3/envs/database/lib/python3.13/site-packages (from httpcore==1.*->httpx>=0.27.0->unstructured-client->unstructured) (0.14.0)\n",
      "Requirement already satisfied: packaging>=17.0 in /home/jowon7602/anaconda3/envs/database/lib/python3.13/site-packages (from marshmallow<4.0.0,>=3.18.0->dataclasses-json->unstructured) (24.2)\n",
      "Requirement already satisfied: annotated-types>=0.6.0 in /home/jowon7602/anaconda3/envs/database/lib/python3.13/site-packages (from pydantic<2.10.0,>=2.9.2->unstructured-client->unstructured) (0.6.0)\n",
      "Requirement already satisfied: pydantic-core==2.23.4 in /home/jowon7602/anaconda3/envs/database/lib/python3.13/site-packages (from pydantic<2.10.0,>=2.9.2->unstructured-client->unstructured) (2.23.4)\n",
      "Collecting mypy-extensions>=0.3.0 (from typing-inspect<1,>=0.4.0->dataclasses-json->unstructured)\n",
      "  Using cached mypy_extensions-1.0.0-py3-none-any.whl.metadata (1.1 kB)\n",
      "Collecting pycparser (from cffi>=1.12->cryptography>=3.1->unstructured-client->unstructured)\n",
      "  Using cached pycparser-2.22-py3-none-any.whl.metadata (943 bytes)\n",
      "Downloading unstructured-0.11.8-py3-none-any.whl (1.8 MB)\n",
      "\u001b[2K   \u001b[90m━━━━━━━━━━━━━━━━━━━━━━━━━━━━━━━━━━━━━━━━\u001b[0m \u001b[32m1.8/1.8 MB\u001b[0m \u001b[31m11.5 MB/s\u001b[0m eta \u001b[36m0:00:00\u001b[0m\n",
      "\u001b[?25hUsing cached backoff-2.2.1-py3-none-any.whl (15 kB)\n",
      "Using cached beautifulsoup4-4.12.3-py3-none-any.whl (147 kB)\n",
      "Using cached chardet-5.2.0-py3-none-any.whl (199 kB)\n",
      "Using cached dataclasses_json-0.6.7-py3-none-any.whl (28 kB)\n",
      "Downloading emoji-2.14.0-py3-none-any.whl (586 kB)\n",
      "\u001b[2K   \u001b[90m━━━━━━━━━━━━━━━━━━━━━━━━━━━━━━━━━━━━━━━━\u001b[0m \u001b[32m586.9/586.9 kB\u001b[0m \u001b[31m20.2 MB/s\u001b[0m eta \u001b[36m0:00:00\u001b[0m\n",
      "\u001b[?25hUsing cached filetype-1.2.0-py2.py3-none-any.whl (19 kB)\n",
      "Downloading lxml-5.3.0-cp313-cp313-manylinux_2_28_x86_64.whl (4.9 MB)\n",
      "\u001b[2K   \u001b[90m━━━━━━━━━━━━━━━━━━━━━━━━━━━━━━━━━━━━━━━━\u001b[0m \u001b[32m4.9/4.9 MB\u001b[0m \u001b[31m11.3 MB/s\u001b[0m eta \u001b[36m0:00:00\u001b[0ma \u001b[36m0:00:01\u001b[0m\n",
      "\u001b[?25hUsing cached nltk-3.9.1-py3-none-any.whl (1.5 MB)\n",
      "Downloading numpy-2.1.3-cp313-cp313-manylinux_2_17_x86_64.manylinux2014_x86_64.whl (16.0 MB)\n",
      "\u001b[2K   \u001b[90m━━━━━━━━━━━━━━━━━━━━━━━━━━━━━━━━━━━━━━━━\u001b[0m \u001b[32m16.0/16.0 MB\u001b[0m \u001b[31m8.6 MB/s\u001b[0m eta \u001b[36m0:00:00\u001b[0ma \u001b[36m0:00:01\u001b[0m\n",
      "\u001b[?25hDownloading python_iso639-2024.10.22-py3-none-any.whl (274 kB)\n",
      "Using cached python_magic-0.4.27-py2.py3-none-any.whl (13 kB)\n",
      "Downloading rapidfuzz-3.10.1-cp313-cp313-manylinux_2_17_x86_64.manylinux2014_x86_64.whl (3.1 MB)\n",
      "\u001b[2K   \u001b[90m━━━━━━━━━━━━━━━━━━━━━━━━━━━━━━━━━━━━━━━━\u001b[0m \u001b[32m3.1/3.1 MB\u001b[0m \u001b[31m9.3 MB/s\u001b[0m eta \u001b[36m0:00:00\u001b[0ma \u001b[36m0:00:01\u001b[0m\n",
      "\u001b[?25hUsing cached requests-2.32.3-py3-none-any.whl (64 kB)\n",
      "Using cached tabulate-0.9.0-py3-none-any.whl (35 kB)\n",
      "Downloading unstructured_client-0.27.0-py3-none-any.whl (59 kB)\n",
      "Downloading python_dateutil-2.8.2-py2.py3-none-any.whl (247 kB)\n",
      "Downloading wrapt-1.16.0-py3-none-any.whl (23 kB)\n",
      "Downloading charset_normalizer-3.4.0-cp313-cp313-manylinux_2_17_x86_64.manylinux2014_x86_64.whl (144 kB)\n",
      "Downloading cryptography-43.0.3-cp39-abi3-manylinux_2_28_x86_64.whl (4.0 MB)\n",
      "\u001b[2K   \u001b[90m━━━━━━━━━━━━━━━━━━━━━━━━━━━━━━━━━━━━━━━━\u001b[0m \u001b[32m4.0/4.0 MB\u001b[0m \u001b[31m6.5 MB/s\u001b[0m eta \u001b[36m0:00:00\u001b[0ma \u001b[36m0:00:01\u001b[0m\n",
      "\u001b[?25hUsing cached eval_type_backport-0.2.0-py3-none-any.whl (5.9 kB)\n",
      "Using cached jsonpath_python-1.0.6-py3-none-any.whl (7.6 kB)\n",
      "Downloading marshmallow-3.23.1-py3-none-any.whl (49 kB)\n",
      "Downloading pypdf-5.1.0-py3-none-any.whl (297 kB)\n",
      "Downloading regex-2024.11.6-cp313-cp313-manylinux_2_17_x86_64.manylinux2014_x86_64.whl (796 kB)\n",
      "\u001b[2K   \u001b[90m━━━━━━━━━━━━━━━━━━━━━━━━━━━━━━━━━━━━━━━━\u001b[0m \u001b[32m796.9/796.9 kB\u001b[0m \u001b[31m5.6 MB/s\u001b[0m eta \u001b[36m0:00:00\u001b[0m\n",
      "\u001b[?25hUsing cached requests_toolbelt-1.0.0-py2.py3-none-any.whl (54 kB)\n",
      "Using cached soupsieve-2.6-py3-none-any.whl (36 kB)\n",
      "Using cached typing_inspect-0.9.0-py3-none-any.whl (8.8 kB)\n",
      "Using cached urllib3-2.2.3-py3-none-any.whl (126 kB)\n",
      "Using cached joblib-1.4.2-py3-none-any.whl (301 kB)\n",
      "Downloading cffi-1.17.1-cp313-cp313-manylinux_2_17_x86_64.manylinux2014_x86_64.whl (479 kB)\n",
      "Using cached mypy_extensions-1.0.0-py3-none-any.whl (4.7 kB)\n",
      "Using cached pycparser-2.22-py3-none-any.whl (117 kB)\n",
      "Building wheels for collected packages: langdetect\n",
      "  Building wheel for langdetect (setup.py) ... \u001b[?25ldone\n",
      "\u001b[?25h  Created wheel for langdetect: filename=langdetect-1.0.9-py3-none-any.whl size=993222 sha256=d563855713295ff7536ce86723ad1ca330830ef6d0327f4d09083d11a8f443ff\n",
      "  Stored in directory: /home/jowon7602/.cache/pip/wheels/eb/87/25/2dddf1c94e1786054e25022ec5530bfed52bad86d882999c48\n",
      "Successfully built langdetect\n",
      "Installing collected packages: filetype, wrapt, urllib3, tabulate, soupsieve, regex, rapidfuzz, python-magic, python-iso639, python-dateutil, pypdf, pycparser, numpy, mypy-extensions, marshmallow, lxml, langdetect, jsonpath-python, joblib, eval-type-backport, emoji, charset-normalizer, chardet, backoff, typing-inspect, requests, nltk, cffi, beautifulsoup4, requests-toolbelt, dataclasses-json, cryptography, unstructured-client, unstructured\n",
      "  Attempting uninstall: python-dateutil\n",
      "    Found existing installation: python-dateutil 2.9.0\n",
      "    Uninstalling python-dateutil-2.9.0:\n",
      "      Successfully uninstalled python-dateutil-2.9.0\n",
      "Successfully installed backoff-2.2.1 beautifulsoup4-4.12.3 cffi-1.17.1 chardet-5.2.0 charset-normalizer-3.4.0 cryptography-43.0.3 dataclasses-json-0.6.7 emoji-2.14.0 eval-type-backport-0.2.0 filetype-1.2.0 joblib-1.4.2 jsonpath-python-1.0.6 langdetect-1.0.9 lxml-5.3.0 marshmallow-3.23.1 mypy-extensions-1.0.0 nltk-3.9.1 numpy-2.1.3 pycparser-2.22 pypdf-5.1.0 python-dateutil-2.8.2 python-iso639-2024.10.22 python-magic-0.4.27 rapidfuzz-3.10.1 regex-2024.11.6 requests-2.32.3 requests-toolbelt-1.0.0 soupsieve-2.6 tabulate-0.9.0 typing-inspect-0.9.0 unstructured-0.11.8 unstructured-client-0.27.0 urllib3-2.2.3 wrapt-1.16.0\n",
      "Note: you may need to restart the kernel to use updated packages.\n"
     ]
    }
   ],
   "source": [
    "%pip install langchain\n",
    "%pip install unstructured"
   ]
  },
  {
   "cell_type": "code",
   "execution_count": 10,
   "metadata": {},
   "outputs": [],
   "source": [
    "# 필요한 라이브러리 임포트\n",
    "import os\n",
    "import re\n",
    "from openai import OpenAI\n",
    "from langchain.embeddings import OpenAIEmbeddings\n",
    "import pdfplumber  # PDF 파일 로드에 사용하는 라이브러리\n",
    "\n",
    "import bs4\n",
    "from langchain import hub\n",
    "from langchain_text_splitters import RecursiveCharacterTextSplitter\n",
    "from langchain_community.document_loaders import WebBaseLoader\n",
    "from langchain_community.vectorstores import Chroma, FAISS\n",
    "from langchain_core.output_parsers import StrOutputParser\n",
    "from langchain_core.runnables import RunnablePassthrough\n",
    "from langchain_openai import ChatOpenAI, OpenAIEmbeddings\n",
    "\n",
    "from dotenv import load_dotenv\n",
    "# .env 파일에서 환경 변수 로드\n",
    "load_dotenv()\n",
    "\n",
    "# 환경 변수에서 API 키 가져오기\n",
    "api_key = os.getenv(\"OPENAI_API_KEY\")\n",
    "\n",
    "# OpenAI 클라이언트 및 Embedding 모델 설정\n",
    "client = OpenAI(api_key=api_key)\n",
    "embedding_model = OpenAIEmbeddings(openai_api_key=api_key)"
   ]
  },
  {
   "cell_type": "markdown",
   "metadata": {},
   "source": [
    "pdf 하나만 Load 할 때"
   ]
  },
  {
   "cell_type": "markdown",
   "metadata": {},
   "source": [
    "pdf 여러개 Load 할 때"
   ]
  },
  {
   "cell_type": "markdown",
   "metadata": {},
   "source": [
    "txt 파일 Load 할 때\n",
    "형식은 1.정보 2.정보 3.정보 - split은 저 기준으로 할 것."
   ]
  },
  {
   "cell_type": "code",
   "execution_count": 11,
   "metadata": {},
   "outputs": [
    {
     "name": "stdout",
     "output_type": "stream",
     "text": [
      "\n",
      "[섹션 3]\n",
      "개강날짜\n",
      "인천대학교의 2024년도 2학기 개강일자는 2024년 9월 2일입니다.\n",
      "2....\n",
      "\n",
      "[섹션 4]\n",
      "고집운영시간\n",
      "인천대학교에 위치한 고집은 평일에만 운영, 오전 11시에 오픈해서 오후 7시에 마감합니다.\n",
      "3....\n",
      "\n",
      "[섹션 5]\n",
      "학산도서관 운영시간\n",
      "인천대학교의 학산도서관은 학기중에는 평일 기준 09시 ~ 21시, 주말 및 공휴일 기준 09시 ~ 17시입니다. \n",
      "방학 중에는 09시 ~ 17시입니다.(단, 중...\n",
      "\n",
      "[섹션 6]\n",
      "셔틀버스 운영시간\n",
      "인천대학교의 등교셔틀버스는 평일 08시~10시에 수시로 운행하고,\n",
      "하교셔틀버스는 평일 18시~19시에 운행합니다.\n",
      "5....\n",
      "\n",
      "[섹션 7]\n",
      "수강신청날짜\n",
      "인천대학교의 2024년도 2학기 수강신청은 8월19일에 시작됩니다.\n",
      "6....\n",
      "\n",
      "[섹션 8]\n",
      "졸업학점\n",
      "2020~2022학년도 입학생은 130~135학점 이상(공학계열:135~140이상) 이수해야합니다.\n",
      "2023학년도 이후 입학생은 130학점 이상 이수해야합니다.\n",
      "7....\n",
      "\n",
      "[섹션 9]\n",
      "종강날짜\n",
      "인천대학교는 2024년도 12월 9일~13일동안 기말시험을 치르고 16일~20일이 보강주간입니다.\n",
      "8....\n",
      "\n",
      "[섹션 10]\n",
      "기초교양\n",
      "인천대학교의 2023학년도 이후 입학자는 글쓰기이론과실제 2학점, Academic English 2학점, 대학영어회화 2학점, \n",
      "컴퓨팅적사고와SW 2학점(해당학과), 대학...\n",
      "\n",
      "[섹션 11]\n",
      "인천대 음식점\n",
      "인천대 안에 입점해있는 음식점에는 봉구스밥버거,포썸, 최고당돈가스, 샹차이, 토마토도시락, 고기굽는집, 그라찌에,\n",
      "맘스터치, 샐러디,스낵바 등이 있습니다.\n",
      "10....\n",
      "\n",
      "[섹션 12]\n",
      "체육 분과 동아리\n",
      "인천대의 체육분과 동아리에는 효월검우회,PANG,산악부UIAC,INU W FC, BOSS, 돌핀, 바이킹, 다크호스, 퍼펙트, 싸우라비,\n",
      "INU START W가 ...\n"
     ]
    }
   ],
   "source": [
    "import re\n",
    "\n",
    "# 텍스트 파일 읽기\n",
    "with open(\"data/txt/university_info.txt\", \"r\", encoding=\"utf-8\") as file:\n",
    "    text = file.read()\n",
    "\n",
    "# 번호 패턴을 기준으로 split\n",
    "# sections = re.split(r'(?<=\\d\\.)\\s+', text)  # 숫자. 뒤에 공백을 기준으로 split\n",
    "sections = re.split(r'(?<=\\d\\.)', text)[1:]  # 숫자와 점 뒤에서 split, 첫 번째 빈 문자열 제거\n",
    "\n",
    "# 첫 번째 섹션이 빈 문자열일 수 있으므로 제거\n",
    "if sections[0] == \"\":\n",
    "    sections = sections[1:]\n",
    "\n",
    "# 결과 확인\n",
    "for idx, section in enumerate(sections):\n",
    "    print(f\"\\n[섹션 {idx+3}]\\n{section[:100]}...\")  # 각 섹션의 앞부분만 표시"
   ]
  },
  {
   "cell_type": "code",
   "execution_count": 12,
   "metadata": {},
   "outputs": [],
   "source": [
    "llm = ChatOpenAI(temperature=0, model=\"gpt-4o-mini-2024-07-18\", openai_api_key=api_key)\n",
    "\n",
    "# 임베딩 모델 설정\n",
    "embeddings = OpenAIEmbeddings()\n",
    "# 벡터 스토어 생성\n",
    "vectorstore = Chroma.from_texts(sections, embeddings)\n",
    "def search_and_generate_answer(query: str):\n",
    "    # 벡터 스토어에서 쿼리와 유사한 정보를 검색\n",
    "    results = vectorstore.similarity_search(query, k=1)\n",
    "    \n",
    "    context = results[0].page_content\n",
    "    prompt = f\"다음 정보에 기반하여 질문에 답해주세요, 만약 없다면 정보가 없다면 '정보가 없습니다.'라고 출력해줘 \\n\\n정보: {context}\\n\\n질문: {query}\\n\\n답변:\"\n",
    "    \n",
    "    # LLM을 이용하여 답변 생성\n",
    "    answer = llm(prompt)\n",
    "    \n",
    "    # 응답에서 content 부분만 추출하여 반환\n",
    "    return answer.content    "
   ]
  },
  {
   "cell_type": "code",
   "execution_count": 13,
   "metadata": {},
   "outputs": [
    {
     "name": "stdout",
     "output_type": "stream",
     "text": [
      "정보가 없습니다.\n"
     ]
    }
   ],
   "source": [
    "# 예제 쿼리\n",
    "query = \"오늘의 날씨는 어때?\"\n",
    "print(search_and_generate_answer(query))"
   ]
  },
  {
   "cell_type": "code",
   "execution_count": 7,
   "metadata": {},
   "outputs": [
    {
     "name": "stdout",
     "output_type": "stream",
     "text": [
      "고집은 평일에 오전 11시에 열어.\n"
     ]
    }
   ],
   "source": [
    "# 예제 쿼리\n",
    "query = \"고집은 언제 열어?\"\n",
    "print(search_and_generate_answer(query))"
   ]
  },
  {
   "cell_type": "code",
   "execution_count": 8,
   "metadata": {},
   "outputs": [
    {
     "name": "stdout",
     "output_type": "stream",
     "text": [
      "정보가 없습니다.\n"
     ]
    }
   ],
   "source": [
    "# 예제 쿼리\n",
    "query = \"인천대학교 크기는 어때?\"\n",
    "print(search_and_generate_answer(query))"
   ]
  },
  {
   "cell_type": "code",
   "execution_count": 9,
   "metadata": {},
   "outputs": [
    {
     "name": "stdout",
     "output_type": "stream",
     "text": [
      "정보가 없습니다.\n"
     ]
    }
   ],
   "source": [
    "# 예제 쿼리\n",
    "query = \"인천대 2023학년도 졸업학점기준이 어떻게 돼?\"\n",
    "print(search_and_generate_answer(query))"
   ]
  }
 ],
 "metadata": {
  "kernelspec": {
   "display_name": "RAG",
   "language": "python",
   "name": "python3"
  },
  "language_info": {
   "codemirror_mode": {
    "name": "ipython",
    "version": 3
   },
   "file_extension": ".py",
   "mimetype": "text/x-python",
   "name": "python",
   "nbconvert_exporter": "python",
   "pygments_lexer": "ipython3",
   "version": "3.12.2"
  }
 },
 "nbformat": 4,
 "nbformat_minor": 2
}
